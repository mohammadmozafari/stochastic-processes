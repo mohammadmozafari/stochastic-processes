{
 "cells": [
  {
   "cell_type": "code",
   "execution_count": 45,
   "metadata": {},
   "outputs": [],
   "source": [
    "import numpy as np"
   ]
  },
  {
   "cell_type": "code",
   "execution_count": 64,
   "metadata": {},
   "outputs": [],
   "source": [
    "def forward(A, B, pi, sequence):\n",
    "    T = len(sequence)\n",
    "    N = A.shape[0]\n",
    "    alpha = np.zeros((N, T))\n",
    "    alpha[:, 0] = pi * B[:, sequence[0]]\n",
    "    for i in range(1, T):\n",
    "        alpha[:, i] = (alpha[:, i-1] @ A) * B[:, sequence[i]]\n",
    "    return alpha\n",
    "\n",
    "def backward(A, B, pi, sequence):\n",
    "    T = len(sequence)\n",
    "    N = A.shape[0]\n",
    "    beta = np.zeros((N, T))\n",
    "    beta[:, -1] = 1\n",
    "    for i in range(T-1)[::-1]:\n",
    "        beta[:, i] = A @ (B[:, sequence[i+1]] * beta[:, i+1])\n",
    "    return beta"
   ]
  },
  {
   "cell_type": "code",
   "execution_count": 66,
   "metadata": {},
   "outputs": [],
   "source": [
    "# Taken from internet to check\n",
    "\n",
    "def forward2(V, a, b, initial_distribution):\n",
    "    alpha = np.zeros((V.shape[0], a.shape[0]))\n",
    "    alpha[0, :] = initial_distribution * b[:, V[0]]\n",
    " \n",
    "    for t in range(1, V.shape[0]):\n",
    "        for j in range(a.shape[0]):\n",
    "            # Matrix Computation Steps\n",
    "            #                  ((1x2) . (1x2))      *     (1)\n",
    "            #                        (1)            *     (1)\n",
    "            alpha[t, j] = alpha[t - 1].dot(a[:, j]) * b[j, V[t]]\n",
    " \n",
    "    return alpha\n",
    "\n",
    "def backward2(V, a, b):\n",
    "    beta = np.zeros((V.shape[0], a.shape[0]))\n",
    " \n",
    "    # setting beta(T) = 1\n",
    "    beta[V.shape[0] - 1] = np.ones((a.shape[0]))\n",
    " \n",
    "    # Loop in backward way from T-1 to\n",
    "    # Due to python indexing the actual loop will be T-2 to 0\n",
    "    for t in range(V.shape[0] - 2, -1, -1):\n",
    "        for j in range(a.shape[0]):\n",
    "            beta[t, j] = (beta[t + 1] * b[:, V[t + 1]]).dot(a[j, :])\n",
    " \n",
    "    return beta"
   ]
  },
  {
   "cell_type": "markdown",
   "metadata": {},
   "source": [
    "# **Quesion 1: Learn HMM Parameters**"
   ]
  },
  {
   "cell_type": "code",
   "execution_count": 67,
   "metadata": {},
   "outputs": [
    {
     "name": "stdout",
     "output_type": "stream",
     "text": [
      "[[0.157977 0.793    1.      ]\n",
      " [0.096923 0.107    1.      ]]\n",
      "[[0.157977 0.096923]\n",
      " [0.793    0.107   ]\n",
      " [1.       1.      ]]\n"
     ]
    }
   ],
   "source": [
    "pi = np.array([0.99, 0.01])\n",
    "\n",
    "A = np.array([[0.99, 0.01], [0.01, 0.99]])\n",
    "B = np.array([[0.8, 0.2], [0.1, 0.9]])\n",
    "\n",
    "O = np.array([0, 1, 0])\n",
    "\n",
    "b1 = backward(A, B, pi, O)\n",
    "b2 = backward2(O, A, B)\n",
    "\n",
    "print(b1)\n",
    "print(b2)"
   ]
  },
  {
   "cell_type": "code",
   "execution_count": 59,
   "metadata": {},
   "outputs": [
    {
     "name": "stdout",
     "output_type": "stream",
     "text": [
      "[[0.792      0.156818   0.12426401]\n",
      " [0.001      0.008019   0.0009507 ]]\n",
      "[[0.792      0.001     ]\n",
      " [0.156818   0.008019  ]\n",
      " [0.12426401 0.0009507 ]]\n"
     ]
    }
   ],
   "source": [
    "pi = np.array([0.99, 0.01])\n",
    "\n",
    "A = np.array([[0.99, 0.01], [0.01, 0.99]])\n",
    "B = np.array([[0.8, 0.2], [0.1, 0.9]])\n",
    "\n",
    "O = np.array([0, 1, 0])\n",
    "\n",
    "alpha = forward(A, B, pi, O)\n",
    "a2 = forward2(O, A, B, pi)\n",
    "\n",
    "print(alpha)\n",
    "print(a2)"
   ]
  },
  {
   "cell_type": "code",
   "execution_count": 34,
   "metadata": {},
   "outputs": [
    {
     "name": "stdout",
     "output_type": "stream",
     "text": [
      "[2.81030163 2.18862847 2.00066352 2.28493924 2.33907273 2.53285583\n",
      " 2.07803737 2.19491093 2.37280626 1.94083948 2.25694453]\n"
     ]
    }
   ],
   "source": [
    "train_data = np.load('train_data.npy')\n",
    "\n",
    "baum_welch(None, 25, 11)\n"
   ]
  },
  {
   "cell_type": "code",
   "execution_count": null,
   "metadata": {},
   "outputs": [],
   "source": []
  }
 ],
 "metadata": {
  "interpreter": {
   "hash": "442e29bcd04bf821d0544d72aba6c1125df328429626c0407e477187cbe68c47"
  },
  "kernelspec": {
   "display_name": "Python 3.7.9 64-bit ('mfi': venv)",
   "language": "python",
   "name": "python3"
  },
  "language_info": {
   "codemirror_mode": {
    "name": "ipython",
    "version": 3
   },
   "file_extension": ".py",
   "mimetype": "text/x-python",
   "name": "python",
   "nbconvert_exporter": "python",
   "pygments_lexer": "ipython3",
   "version": "3.7.9"
  },
  "orig_nbformat": 4
 },
 "nbformat": 4,
 "nbformat_minor": 2
}
