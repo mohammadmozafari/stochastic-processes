{
 "cells": [
  {
   "cell_type": "code",
   "execution_count": 164,
   "metadata": {},
   "outputs": [],
   "source": [
    "import numpy as np\n",
    "from tqdm import tqdm"
   ]
  },
  {
   "cell_type": "code",
   "execution_count": 170,
   "metadata": {},
   "outputs": [],
   "source": [
    "def forward(A, B, pi, sequence, eval=False):\n",
    "    T = len(sequence)\n",
    "    N = A.shape[0]\n",
    "    alpha = np.zeros((N, T))\n",
    "    alpha[:, 0] = pi * B[:, sequence[0]]\n",
    "    constant = np.ones(T)\n",
    "    if not eval:\n",
    "        constant[0] = 1/np.sum(alpha[:, 0])\n",
    "        alpha[:, 0] *= constant[0]\n",
    "    for i in range(1, T):\n",
    "        alpha[:, i] = (alpha[:, i-1] @ A) * B[:, sequence[i]]\n",
    "        if not eval:\n",
    "            constant[i] = 1/np.sum(alpha[:, i])\n",
    "            alpha[:, i] *= constant[i]\n",
    "    return alpha, constant\n",
    "\n",
    "def backward(A, B, sequence, constant, eval=False):\n",
    "    T = len(sequence)\n",
    "    N = A.shape[0]\n",
    "    beta = np.zeros((N, T))\n",
    "    beta[:, -1] = 1\n",
    "    if not eval:\n",
    "        beta[:, -1] *= constant[-1]\n",
    "    for i in range(T-1)[::-1]:\n",
    "        beta[:, i] = A @ (B[:, sequence[i+1]] * beta[:, i+1])\n",
    "        if not eval:\n",
    "            beta[:, i] *= constant[i]\n",
    "    return beta"
   ]
  },
  {
   "cell_type": "code",
   "execution_count": 171,
   "metadata": {},
   "outputs": [],
   "source": [
    "def init_hmm_params(num_states, num_observations):\n",
    "    \n",
    "    # Init transition matrix with regards to the given map\n",
    "    A = np.zeros((num_states, num_states))\n",
    "    A[0, [0, 1, 5]] = 1\n",
    "    A[1, [1, 0, 2]] = 1\n",
    "    A[2, [2, 1, 3]] = 1\n",
    "    A[3, [3, 2, 4, 8]] = 1\n",
    "    A[4, [4, 3, 9]] = 1\n",
    "    A[5, [5, 0, 6, 10]] = 1\n",
    "    A[6, [6, 5, 7, 11, 12]] = 1\n",
    "    A[7, [7, 6, 8, 12]] = 1\n",
    "    A[8, [8, 3, 7, 9, 12, 13]] = 1\n",
    "    A[9, [9, 4, 8, 14]] = 1\n",
    "    A[10, [10, 5, 15]] = 1\n",
    "    A[11, [11, 6, 12, 16]] = 1\n",
    "    A[12, [12, 6, 7, 8, 11, 13, 16, 17, 18]] = 1\n",
    "    A[13, [13, 8, 12, 14, 18]] = 1\n",
    "    A[14, [14, 9, 13, 19]] = 1\n",
    "    A[15, [15, 10, 20]] = 1\n",
    "    A[16, [16, 11, 12, 17, 21]] = 1\n",
    "    A[17, [17, 12, 16, 18, 22]] = 1\n",
    "    A[18, [18, 12, 13, 17, 19, 23]] = 1\n",
    "    A[19, [19, 14, 18, 24]] = 1\n",
    "    A[20, [20, 15, 21]] = 1\n",
    "    A[21, [21, 16, 20, 22]] = 1\n",
    "    A[22, [22, 17, 21, 23]] = 1\n",
    "    A[23, [23, 18, 22, 24]] = 1\n",
    "    A[24, [24, 19, 23]] = 1\n",
    "    assert (A - A.T).sum() == 0\n",
    "    A = (A.T / A.sum(axis=1)).T\n",
    "    \n",
    "    # Init emission probabilities\n",
    "    B = np.random.rand(num_states, num_observations)\n",
    "    B = (B.T / B.sum(axis=1)).T\n",
    "\n",
    "    # Init initial probabilities\n",
    "    pi = np.random.rand(num_states)\n",
    "    pi /= pi.sum()\n",
    "\n",
    "    return A, B, pi"
   ]
  },
  {
   "cell_type": "code",
   "execution_count": 172,
   "metadata": {},
   "outputs": [],
   "source": [
    "def baum_welch(sequences, iters=100):\n",
    "\n",
    "    A, B, pi = init_hmm_params(25, 11)\n",
    "    \n",
    "    N = A.shape[0]\n",
    "    O = B.shape[1]\n",
    "    T = len(sequences[0])\n",
    "\n",
    "    for i in range(iters):\n",
    "\n",
    "        A_num = np.zeros((N, N))           # (N, N)\n",
    "        A_denom = np.zeros((N, 1))         # (N, 1)\n",
    "        B_num = np.zeros((N, O))           # (N, O)\n",
    "        B_denom = np.zeros((N, 1))         # (N, 1)\n",
    "        pi_num = np.zeros(N)          \n",
    "\n",
    "        for seq_num in tqdm(range(sequences.shape[0]), bar_format='{l_bar}{bar:100}{r_bar}{bar:-10b}'):\n",
    "            \n",
    "            sequence = sequences[seq_num]\n",
    "        \n",
    "            alpha, constant = forward(A, B, pi, sequence)         # alpha: (N, T)\n",
    "            beta = backward(A, B, sequence, constant)             # beta: (N, T)\n",
    "\n",
    "            # xi: (N, N, T-1)\n",
    "            # compute xi vectorized \n",
    "            alpha_t = alpha[:, :-1]\n",
    "            beta_t = beta[:, 1:]\n",
    "            B_t = B[:, sequence[1:]]\n",
    "            numerator = (A[:, :, None] * alpha_t[:, None, :]) * (beta_t * B_t)\n",
    "            denom = numerator.sum(axis=(0, 1))\n",
    "            xi = numerator / (denom + 1e-7)\n",
    "\n",
    "            gamma_temp = alpha * beta                                # gamma_temp: (N, T)\n",
    "            gamma = gamma_temp / (gamma_temp.sum(axis=0) + 1e-7)     # gamma: (N, T)\n",
    "\n",
    "            A_num += xi.sum(axis = 2)                                      # A_num: (N, N)\n",
    "            A_denom += gamma[:, :-1].sum(axis=1).reshape(-1, 1)            # A_denom: (N, 1)\n",
    "\n",
    "            for o in range(O):\n",
    "                B_num[:, o] += np.sum(gamma[:, sequence == o], axis=1)\n",
    "            B_denom += np.sum(gamma, axis=1).reshape(-1, 1)\n",
    "\n",
    "            pi_num += gamma[:, 0]\n",
    "\n",
    "        A = A_num / (A_denom + 1e-7)\n",
    "        B = B_num / (B_denom + 1e-7)\n",
    "        pi = pi_num / sequences.shape[1]\n",
    "\n",
    "    return A, B, pi\n"
   ]
  },
  {
   "cell_type": "markdown",
   "metadata": {},
   "source": [
    "# **Quesion 1: Learn HMM Parameters**"
   ]
  },
  {
   "cell_type": "code",
   "execution_count": 173,
   "metadata": {},
   "outputs": [
    {
     "name": "stderr",
     "output_type": "stream",
     "text": [
      "100%|████████████████████████████████████████████████████████████████████████████████████████████████████| 500/500 [00:08<00:00, 56.97it/s]\n",
      "100%|████████████████████████████████████████████████████████████████████████████████████████████████████| 500/500 [00:07<00:00, 65.09it/s]\n"
     ]
    }
   ],
   "source": [
    "train_data = np.load('train_data.npy')\n",
    "\n",
    "A, B, pi = baum_welch(train_data, iters=2)\n",
    "np.save('transition_matrix.npy', A)\n",
    "np.save('emission_matrix.npy', B)\n",
    "np.save('initial_dist.npy', pi)\n"
   ]
  },
  {
   "cell_type": "markdown",
   "metadata": {},
   "source": [
    "# **Quesion 2: Compute sequence probabilities**"
   ]
  },
  {
   "cell_type": "code",
   "execution_count": 187,
   "metadata": {},
   "outputs": [],
   "source": [
    "def forward_backward(sequence, A, B, pi):\n",
    "    T = len(sequence)\n",
    "    idx = np.random.randint(1, T)\n",
    "    alpha, c = forward(A, B, pi, sequence, eval=True)\n",
    "    beta = backward(A, B, sequence, c, eval=True)\n",
    "    prob = alpha[:, idx] @ beta[:, idx]\n",
    "    return prob\n",
    "\n",
    "test_data = np.load('test_data.npy')\n",
    "test_probs = np.zeros(test_data.shape[0])\n",
    "for i, observation in enumerate(test_data):\n",
    "    prob = forward_backward(observation, A, B, pi)\n",
    "    test_probs[i] = prob\n",
    "np.save('test_probs.npy', test_probs)"
   ]
  },
  {
   "cell_type": "code",
   "execution_count": null,
   "metadata": {},
   "outputs": [],
   "source": []
  },
  {
   "cell_type": "code",
   "execution_count": null,
   "metadata": {},
   "outputs": [],
   "source": []
  },
  {
   "cell_type": "code",
   "execution_count": null,
   "metadata": {},
   "outputs": [],
   "source": []
  }
 ],
 "metadata": {
  "interpreter": {
   "hash": "442e29bcd04bf821d0544d72aba6c1125df328429626c0407e477187cbe68c47"
  },
  "kernelspec": {
   "display_name": "Python 3.7.9 64-bit ('mfi': venv)",
   "language": "python",
   "name": "python3"
  },
  "language_info": {
   "codemirror_mode": {
    "name": "ipython",
    "version": 3
   },
   "file_extension": ".py",
   "mimetype": "text/x-python",
   "name": "python",
   "nbconvert_exporter": "python",
   "pygments_lexer": "ipython3",
   "version": "3.7.9"
  },
  "orig_nbformat": 4
 },
 "nbformat": 4,
 "nbformat_minor": 2
}
